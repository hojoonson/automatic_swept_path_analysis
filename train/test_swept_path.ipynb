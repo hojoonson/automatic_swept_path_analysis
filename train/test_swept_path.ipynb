{
 "cells": [
  {
   "cell_type": "code",
   "execution_count": 1,
   "metadata": {},
   "outputs": [
    {
     "name": "stdout",
     "output_type": "stream",
     "text": [
      "pygame 1.9.6\n",
      "Hello from the pygame community. https://www.pygame.org/contribute.html\n"
     ]
    },
    {
     "name": "stderr",
     "output_type": "stream",
     "text": [
      "/home/kbdlab/anaconda3/lib/python3.6/site-packages/h5py/__init__.py:36: FutureWarning: Conversion of the second argument of issubdtype from `float` to `np.floating` is deprecated. In future, it will be treated as `np.float64 == np.dtype(float).type`.\n",
      "  from ._conv import register_converters as _register_converters\n",
      "INFO:root:FLAGS configure.\n"
     ]
    },
    {
     "name": "stdout",
     "output_type": "stream",
     "text": [
      "WARNING:tensorflow:From /home/kbdlab/projects/hojoon/swept_path/train/model.py:39: dense (from tensorflow.python.layers.core) is deprecated and will be removed in a future version.\n",
      "Instructions for updating:\n",
      "Use keras.layers.dense instead.\n"
     ]
    },
    {
     "name": "stderr",
     "output_type": "stream",
     "text": [
      "WARNING:tensorflow:From /home/kbdlab/projects/hojoon/swept_path/train/model.py:39: dense (from tensorflow.python.layers.core) is deprecated and will be removed in a future version.\n",
      "Instructions for updating:\n",
      "Use keras.layers.dense instead.\n"
     ]
    },
    {
     "name": "stdout",
     "output_type": "stream",
     "text": [
      "WARNING:tensorflow:From /home/kbdlab/anaconda3/lib/python3.6/site-packages/tensorflow/python/framework/op_def_library.py:263: colocate_with (from tensorflow.python.framework.ops) is deprecated and will be removed in a future version.\n",
      "Instructions for updating:\n",
      "Colocations handled automatically by placer.\n"
     ]
    },
    {
     "name": "stderr",
     "output_type": "stream",
     "text": [
      "WARNING:tensorflow:From /home/kbdlab/anaconda3/lib/python3.6/site-packages/tensorflow/python/framework/op_def_library.py:263: colocate_with (from tensorflow.python.framework.ops) is deprecated and will be removed in a future version.\n",
      "Instructions for updating:\n",
      "Colocations handled automatically by placer.\n"
     ]
    },
    {
     "name": "stdout",
     "output_type": "stream",
     "text": [
      "WARNING:tensorflow:From /home/kbdlab/anaconda3/lib/python3.6/site-packages/tensorflow/python/ops/losses/losses_impl.py:667: to_float (from tensorflow.python.ops.math_ops) is deprecated and will be removed in a future version.\n",
      "Instructions for updating:\n",
      "Use tf.cast instead.\n"
     ]
    },
    {
     "name": "stderr",
     "output_type": "stream",
     "text": [
      "WARNING:tensorflow:From /home/kbdlab/anaconda3/lib/python3.6/site-packages/tensorflow/python/ops/losses/losses_impl.py:667: to_float (from tensorflow.python.ops.math_ops) is deprecated and will be removed in a future version.\n",
      "Instructions for updating:\n",
      "Use tf.cast instead.\n"
     ]
    },
    {
     "name": "stdout",
     "output_type": "stream",
     "text": [
      "WARNING:tensorflow:From /home/kbdlab/anaconda3/lib/python3.6/site-packages/tensorflow/python/training/saver.py:1266: checkpoint_exists (from tensorflow.python.training.checkpoint_management) is deprecated and will be removed in a future version.\n",
      "Instructions for updating:\n",
      "Use standard file APIs to check for files with this prefix.\n"
     ]
    },
    {
     "name": "stderr",
     "output_type": "stream",
     "text": [
      "WARNING:tensorflow:From /home/kbdlab/anaconda3/lib/python3.6/site-packages/tensorflow/python/training/saver.py:1266: checkpoint_exists (from tensorflow.python.training.checkpoint_management) is deprecated and will be removed in a future version.\n",
      "Instructions for updating:\n",
      "Use standard file APIs to check for files with this prefix.\n"
     ]
    },
    {
     "name": "stdout",
     "output_type": "stream",
     "text": [
      "INFO:tensorflow:Restoring parameters from Swept_Path_Analysis_f1_checkpoint/global_step-1712000\n"
     ]
    },
    {
     "name": "stderr",
     "output_type": "stream",
     "text": [
      "INFO:tensorflow:Restoring parameters from Swept_Path_Analysis_f1_checkpoint/global_step-1712000\n"
     ]
    },
    {
     "name": "stdout",
     "output_type": "stream",
     "text": [
      "Finish the Analysis!!!\n",
      "Collision!!!\n",
      "Collision!!!\n",
      "Collision!!!\n",
      "Collision!!!\n",
      "Finish the Analysis!!!\n",
      "Collision!!!\n",
      "Finish the Analysis!!!\n",
      "Collision!!!\n",
      "Collision!!!\n",
      "Collision!!!\n",
      "Collision!!!\n",
      "Finish the Analysis!!!\n",
      "Collision!!!\n"
     ]
    },
    {
     "ename": "KeyboardInterrupt",
     "evalue": "",
     "output_type": "error",
     "traceback": [
      "\u001b[0;31m---------------------------------------------------------------------------\u001b[0m",
      "\u001b[0;31mKeyboardInterrupt\u001b[0m                         Traceback (most recent call last)",
      "\u001b[0;32m<ipython-input-1-5e0619751f73>\u001b[0m in \u001b[0;36m<module>\u001b[0;34m()\u001b[0m\n\u001b[1;32m    207\u001b[0m \u001b[0;32mif\u001b[0m \u001b[0m__name__\u001b[0m \u001b[0;34m==\u001b[0m \u001b[0;34m'__main__'\u001b[0m\u001b[0;34m:\u001b[0m\u001b[0;34m\u001b[0m\u001b[0m\n\u001b[1;32m    208\u001b[0m     \u001b[0mgame\u001b[0m \u001b[0;34m=\u001b[0m \u001b[0mGame\u001b[0m\u001b[0;34m(\u001b[0m\u001b[0;34m)\u001b[0m\u001b[0;34m\u001b[0m\u001b[0m\n\u001b[0;32m--> 209\u001b[0;31m     \u001b[0mgame\u001b[0m\u001b[0;34m.\u001b[0m\u001b[0mrun\u001b[0m\u001b[0;34m(\u001b[0m\u001b[0;34m)\u001b[0m\u001b[0;34m\u001b[0m\u001b[0m\n\u001b[0m",
      "\u001b[0;32m<ipython-input-1-5e0619751f73>\u001b[0m in \u001b[0;36mrun\u001b[0;34m(self)\u001b[0m\n\u001b[1;32m    166\u001b[0m                         \u001b[0mprint\u001b[0m\u001b[0;34m(\u001b[0m\u001b[0;34m\"Finish the Analysis!!!\"\u001b[0m\u001b[0;34m)\u001b[0m\u001b[0;34m\u001b[0m\u001b[0m\n\u001b[1;32m    167\u001b[0m                     \u001b[0;31m# Current State by Lidar Sensor\u001b[0m\u001b[0;34m\u001b[0m\u001b[0;34m\u001b[0m\u001b[0m\n\u001b[0;32m--> 168\u001b[0;31m                     \u001b[0mresult\u001b[0m\u001b[0;34m=\u001b[0m\u001b[0mself\u001b[0m\u001b[0;34m.\u001b[0m\u001b[0mutil\u001b[0m\u001b[0;34m.\u001b[0m\u001b[0mlidar_sensor\u001b[0m\u001b[0;34m(\u001b[0m\u001b[0mcar\u001b[0m\u001b[0;34m.\u001b[0m\u001b[0mposition\u001b[0m\u001b[0;34m,\u001b[0m\u001b[0mcar\u001b[0m\u001b[0;34m.\u001b[0m\u001b[0mangle\u001b[0m\u001b[0;34m,\u001b[0m\u001b[0mnum_of_points\u001b[0m\u001b[0;34m=\u001b[0m\u001b[0mself\u001b[0m\u001b[0;34m.\u001b[0m\u001b[0mnum_of_points\u001b[0m\u001b[0;34m,\u001b[0m\u001b[0mcarlength\u001b[0m\u001b[0;34m=\u001b[0m\u001b[0mcar\u001b[0m\u001b[0;34m.\u001b[0m\u001b[0mcarlength\u001b[0m\u001b[0;34m)\u001b[0m\u001b[0;34m\u001b[0m\u001b[0m\n\u001b[0m\u001b[1;32m    169\u001b[0m                     \u001b[0mnext_state\u001b[0m\u001b[0;34m=\u001b[0m\u001b[0mnp\u001b[0m\u001b[0;34m.\u001b[0m\u001b[0marray\u001b[0m\u001b[0;34m(\u001b[0m\u001b[0mresult\u001b[0m\u001b[0;34m)\u001b[0m\u001b[0;34m-\u001b[0m\u001b[0mnp\u001b[0m\u001b[0;34m.\u001b[0m\u001b[0marray\u001b[0m\u001b[0;34m(\u001b[0m\u001b[0mcar\u001b[0m\u001b[0;34m.\u001b[0m\u001b[0mposition\u001b[0m\u001b[0;34m)\u001b[0m\u001b[0;34m\u001b[0m\u001b[0m\n\u001b[1;32m    170\u001b[0m                     \u001b[0mnext_state\u001b[0m\u001b[0;34m=\u001b[0m\u001b[0mnext_state\u001b[0m\u001b[0;34m.\u001b[0m\u001b[0mflatten\u001b[0m\u001b[0;34m(\u001b[0m\u001b[0;34m)\u001b[0m\u001b[0;34m\u001b[0m\u001b[0m\n",
      "\u001b[0;32m~/projects/hojoon/swept_path/train/utility.py\u001b[0m in \u001b[0;36mlidar_sensor\u001b[0;34m(self, position, angle, carlength, maxdistance, num_of_points)\u001b[0m\n\u001b[1;32m    148\u001b[0m                 \u001b[0mB\u001b[0m\u001b[0;34m=\u001b[0m\u001b[0mnp\u001b[0m\u001b[0;34m.\u001b[0m\u001b[0marray\u001b[0m\u001b[0;34m(\u001b[0m\u001b[0mB\u001b[0m\u001b[0;34m)\u001b[0m\u001b[0;34m\u001b[0m\u001b[0m\n\u001b[1;32m    149\u001b[0m                 \u001b[0;32mif\u001b[0m \u001b[0mnp\u001b[0m\u001b[0;34m.\u001b[0m\u001b[0marray_equal\u001b[0m\u001b[0;34m(\u001b[0m\u001b[0mA\u001b[0m\u001b[0;34m,\u001b[0m\u001b[0mB\u001b[0m\u001b[0;34m)\u001b[0m\u001b[0;34m==\u001b[0m\u001b[0;32mFalse\u001b[0m \u001b[0;34m:\u001b[0m\u001b[0;34m\u001b[0m\u001b[0m\n\u001b[0;32m--> 150\u001b[0;31m                     \u001b[0mmaxlength\u001b[0m\u001b[0;34m=\u001b[0m\u001b[0mmax\u001b[0m\u001b[0;34m(\u001b[0m\u001b[0mnp\u001b[0m\u001b[0;34m.\u001b[0m\u001b[0mlinalg\u001b[0m\u001b[0;34m.\u001b[0m\u001b[0mnorm\u001b[0m\u001b[0;34m(\u001b[0m\u001b[0mA\u001b[0m\u001b[0;34m-\u001b[0m\u001b[0mB\u001b[0m\u001b[0;34m)\u001b[0m\u001b[0;34m,\u001b[0m\u001b[0mnp\u001b[0m\u001b[0;34m.\u001b[0m\u001b[0mlinalg\u001b[0m\u001b[0;34m.\u001b[0m\u001b[0mnorm\u001b[0m\u001b[0;34m(\u001b[0m\u001b[0mB\u001b[0m\u001b[0;34m-\u001b[0m\u001b[0mC\u001b[0m\u001b[0;34m)\u001b[0m\u001b[0;34m,\u001b[0m\u001b[0mnp\u001b[0m\u001b[0;34m.\u001b[0m\u001b[0mlinalg\u001b[0m\u001b[0;34m.\u001b[0m\u001b[0mnorm\u001b[0m\u001b[0;34m(\u001b[0m\u001b[0mC\u001b[0m\u001b[0;34m-\u001b[0m\u001b[0mA\u001b[0m\u001b[0;34m)\u001b[0m\u001b[0;34m)\u001b[0m\u001b[0;34m\u001b[0m\u001b[0m\n\u001b[0m\u001b[1;32m    151\u001b[0m                     \u001b[0mminheight\u001b[0m\u001b[0;34m=\u001b[0m\u001b[0mabs\u001b[0m\u001b[0;34m(\u001b[0m\u001b[0mA\u001b[0m\u001b[0;34m[\u001b[0m\u001b[0;36m0\u001b[0m\u001b[0;34m]\u001b[0m\u001b[0;34m*\u001b[0m\u001b[0;34m(\u001b[0m\u001b[0mB\u001b[0m\u001b[0;34m[\u001b[0m\u001b[0;36m1\u001b[0m\u001b[0;34m]\u001b[0m\u001b[0;34m-\u001b[0m\u001b[0mC\u001b[0m\u001b[0;34m[\u001b[0m\u001b[0;36m1\u001b[0m\u001b[0;34m]\u001b[0m\u001b[0;34m)\u001b[0m\u001b[0;34m+\u001b[0m\u001b[0mB\u001b[0m\u001b[0;34m[\u001b[0m\u001b[0;36m0\u001b[0m\u001b[0;34m]\u001b[0m\u001b[0;34m*\u001b[0m\u001b[0;34m(\u001b[0m\u001b[0mC\u001b[0m\u001b[0;34m[\u001b[0m\u001b[0;36m1\u001b[0m\u001b[0;34m]\u001b[0m\u001b[0;34m-\u001b[0m\u001b[0mA\u001b[0m\u001b[0;34m[\u001b[0m\u001b[0;36m1\u001b[0m\u001b[0;34m]\u001b[0m\u001b[0;34m)\u001b[0m\u001b[0;34m+\u001b[0m\u001b[0mC\u001b[0m\u001b[0;34m[\u001b[0m\u001b[0;36m0\u001b[0m\u001b[0;34m]\u001b[0m\u001b[0;34m*\u001b[0m\u001b[0;34m(\u001b[0m\u001b[0mA\u001b[0m\u001b[0;34m[\u001b[0m\u001b[0;36m1\u001b[0m\u001b[0;34m]\u001b[0m\u001b[0;34m-\u001b[0m\u001b[0mB\u001b[0m\u001b[0;34m[\u001b[0m\u001b[0;36m1\u001b[0m\u001b[0;34m]\u001b[0m\u001b[0;34m)\u001b[0m\u001b[0;34m)\u001b[0m\u001b[0;34m//\u001b[0m\u001b[0mmaxlength\u001b[0m\u001b[0;34m\u001b[0m\u001b[0m\n\u001b[1;32m    152\u001b[0m                     \u001b[0;32mif\u001b[0m \u001b[0mminheight\u001b[0m\u001b[0;34m<\u001b[0m\u001b[0;36m5\u001b[0m\u001b[0;34m:\u001b[0m\u001b[0;34m\u001b[0m\u001b[0m\n",
      "\u001b[0;31mKeyboardInterrupt\u001b[0m: "
     ]
    }
   ],
   "source": [
    "from utility import *\n",
    "from collections import deque\n",
    "from dqn import DeepQNetwork\n",
    "import tensorflow as tf\n",
    "import logging\n",
    "from typing import List\n",
    "import random\n",
    "import glob\n",
    "\n",
    "flags = tf.app.flags\n",
    "flags.DEFINE_integer('max_episode_count', 5000, 'Number of maximum episodes.')\n",
    "flags.DEFINE_integer('batch_size', 128, 'Batch size. (Must divide evenly into the dataset sizes)')\n",
    "flags.DEFINE_integer('frame_size', 1, 'Frame size. (Stack env\\'s observation T-n ~ T)')\n",
    "flags.DEFINE_string('model_name', 'MLPv1', 'DeepLearning Network Model name (MLPv1, ConvNetv1)')\n",
    "flags.DEFINE_float('learning_rate', 0.0001, 'Learning rate. ')\n",
    "flags.DEFINE_boolean('step_verbose', True, 'verbose every step count')\n",
    "flags.DEFINE_integer('step_verbose_count', 100, 'verbose step count')\n",
    "flags.DEFINE_integer('save_step_count', 2000, 'model save step count')\n",
    "flags.DEFINE_string('checkpoint_path', 'checkpoint/', 'model save checkpoint_path (prefix is gym_env)')\n",
    "FLAGS = flags.FLAGS\n",
    "logging.basicConfig(level=logging.INFO)\n",
    "logger = logging.getLogger()\n",
    "\n",
    "class Test:\n",
    "    def __init__(self,input_size,output_size):\n",
    "        self.input_size=input_size\n",
    "        self.output_size=output_size\n",
    "        self.RAM_FIXED_LENGTH=24\n",
    "    def get_copy_var_ops(self,*, dest_scope_name: str, src_scope_name: str) -> List[tf.Operation]:\n",
    "        \"\"\"Creates TF operations that copy weights from `src_scope` to `dest_scope`\n",
    "        Args:\n",
    "            dest_scope_name (str): Destination weights (copy to)\n",
    "            src_scope_name (str): Source weight (copy from)\n",
    "        Returns:\n",
    "            List[tf.Operation]: Update operations are created and returned\n",
    "        \"\"\"\n",
    "        # Copy variables src_scope to dest_scope\n",
    "        op_holder = []\n",
    "\n",
    "        src_vars = tf.get_collection(\n",
    "            tf.GraphKeys.TRAINABLE_VARIABLES, scope=src_scope_name)\n",
    "        dest_vars = tf.get_collection(\n",
    "            tf.GraphKeys.TRAINABLE_VARIABLES, scope=dest_scope_name)\n",
    "\n",
    "        for src_var, dest_var in zip(src_vars, dest_vars):\n",
    "            op_holder.append(dest_var.assign(src_var.value()))\n",
    "\n",
    "        return op_holder\n",
    "    def step(self,action,car):\n",
    "        reward=0\n",
    "        if car.vehicle==\"car\":\n",
    "            if action==0:\n",
    "                car.velocity.y= car.car_velocity\n",
    "            elif action==1:\n",
    "                car.velocity.y = car.car_velocity\n",
    "                car.steering = 30\n",
    "            elif action==2:\n",
    "                car.velocity.y= car.car_velocity\n",
    "                car.steering = -30\n",
    "            \n",
    "            elif action==3:\n",
    "                car.velocity.y= -car.car_velocity\n",
    "            elif action==4:\n",
    "                car.velocity.y= -car.car_velocity   \n",
    "                car.steering = 30\n",
    "            elif action==5:\n",
    "                car.velocity.y= -car.car_velocity\n",
    "                car.steering = -30\n",
    "            return reward\n",
    "\n",
    "    def action_sample(self,vehicle):\n",
    "        if vehicle==\"car\":\n",
    "            return random.randint(0,2)\n",
    "\n",
    "class Game:\n",
    "    def __init__(self):\n",
    "        self.roadimage_path=glob.glob(\"./testimages/*.png\")\n",
    "        self.util=utility()\n",
    "        self.util.imagefile=self.roadimage_path[0]                    \n",
    "        pygame.init()\n",
    "        pygame.display.set_caption(\"Swept Path Analysis\")\n",
    "        self.num_of_points=16\n",
    "        self.startx=410\n",
    "        self.starty=500\n",
    "        self.startangle=30\n",
    "        self.width = 600\n",
    "        self.height = 600\n",
    "        self.screen = pygame.display.set_mode((self.width, self.height))\n",
    "        self.clock = pygame.time.Clock()\n",
    "        self.ticks = 60\n",
    "\n",
    "    \n",
    "    def run(self):\n",
    "        car = Car(x=self.startx,y=self.starty,angle=self.startangle)\n",
    "        red = (255, 0, 0)\n",
    "        gray = (100,100,100)\n",
    "        car_image = pygame.Surface((car.carwidth,car.carlength),pygame.SRCALPHA)\n",
    "        car_image.fill(red)\n",
    "        stack_image = pygame.Surface((car.carwidth,car.carlength),pygame.SRCALPHA)\n",
    "        stack_image.fill(gray)\n",
    "        ppu = 1   \n",
    "        if car.vehicle==\"car\":\n",
    "            test=Test(input_size=(self.num_of_points*2,),output_size=3)\n",
    "        elif car.vehicle==\"spmt\":\n",
    "            test=Test(input_size=(self.num_of_points*2,),output_size=3)\n",
    "        logger.info(\"FLAGS configure.\")\n",
    "        #logger.info(FLAGS.__flags)\n",
    "        # store the previous observations in replay memory\n",
    "        \n",
    "        with tf.Session() as sess:\n",
    "            tf.app.flags.DEFINE_string('f', '', 'kernel')\n",
    "            mainDQN = DeepQNetwork(sess, FLAGS.model_name, test.input_size, test.output_size, learning_rate=FLAGS.learning_rate, frame_size=FLAGS.frame_size, name=\"main\")\n",
    "            \n",
    "            sess.run(tf.global_variables_initializer())\n",
    "            saver = tf.train.Saver(tf.global_variables())\n",
    "            saver.restore(sess, tf.train.latest_checkpoint(\"Swept_Path_Analysis_f1_checkpoint\"))\n",
    "\n",
    "            # initial copy q_net -> target_net\n",
    "            copy_ops = test.get_copy_var_ops(dest_scope_name=\"target\",\n",
    "                                        src_scope_name=\"main\")\n",
    "            sess.run(copy_ops)\n",
    "            \n",
    "            global_step = 1\n",
    "            for episode in range(FLAGS.max_episode_count):\n",
    "                #set road image!\n",
    "                self.util.imagefile=self.roadimage_path[episode%len(self.roadimage_path)]\n",
    "                self.util.image=cv2.imread(self.util.imagefile)\n",
    "                self.util.edge=cv2.Laplacian(self.util.image,cv2.CV_8U)\n",
    "                self.util.edge=cv2.cvtColor(self.util.edge,cv2.COLOR_BGR2GRAY)\n",
    "                road_image=pygame.image.load(self.util.imagefile)\n",
    "                \n",
    "                #reset collision, finish valid\n",
    "                self.collision_valid=0\n",
    "                self.finish_valid=0\n",
    "                # Initializing\n",
    "                car = Car(x=self.startx,y=self.starty,angle=self.startangle)\n",
    "                nextvalid=1\n",
    "                stack_list=[[pygame.transform.rotate(stack_image,car.angle),car.position]]\n",
    "                self.done = False\n",
    "\n",
    "                # Current State by Lidar Sensor\n",
    "                result=self.util.lidar_sensor(car.position,car.angle,num_of_points=self.num_of_points,carlength=car.carlength)\n",
    "                state=np.array(result)-np.array(car.position)\n",
    "                state=state.flatten()\n",
    "                \n",
    "                if FLAGS.frame_size > 1:\n",
    "                    state_with_frame = deque(maxlen=FLAGS.frame_size)\n",
    "\n",
    "                    for _ in range(FLAGS.frame_size):\n",
    "                        state_with_frame.append(state)\n",
    "                    state = np.array(state_with_frame)\n",
    "                    state = np.reshape(state, (1, test.RAM_FIXED_LENGTH, FLAGS.frame_size))\n",
    "\n",
    "                while not self.done:\n",
    "                    dt = self.clock.get_time() / 1000\n",
    "                    action = np.argmax(mainDQN.predict(state))\n",
    "                    # Get new state and reward from environment\n",
    "                    test.step(action,car)\n",
    "                    nextvalid=car.update(dt,self.util.image,car.vehicle)\n",
    "                    #reward+=np.linalg.norm(car.position-np.array([410,500]))/300\n",
    "                    if nextvalid!=1:\n",
    "                        self.done=True\n",
    "                    if nextvalid==0:\n",
    "                        print(\"Collision!!!\")\n",
    "                    elif nextvalid==2:\n",
    "                        print(\"Finish the Analysis!!!\")\n",
    "                    # Current State by Lidar Sensor\n",
    "                    result=self.util.lidar_sensor(car.position,car.angle,num_of_points=self.num_of_points,carlength=car.carlength)\n",
    "                    next_state=np.array(result)-np.array(car.position)\n",
    "                    next_state=next_state.flatten()\n",
    "                    if FLAGS.frame_size > 1:\n",
    "                        state_with_frame.append(next_state)\n",
    "\n",
    "                        next_state = np.array(state_with_frame)\n",
    "                        next_state = np.reshape(next_state, (1, test.RAM_FIXED_LENGTH, FLAGS.frame_size))\n",
    "                    state = next_state\n",
    "                    # Drawing\n",
    "                    self.screen.fill((0, 0, 0))\n",
    "                    rotated = pygame.transform.rotate(car_image, car.angle)\n",
    "                    rect = rotated.get_rect()\n",
    "                    self.screen.blit(road_image,(0,0))\n",
    "                    if pygame.transform.rotate(stack_image,car.angle)!=stack_list[-1][0] and\\\n",
    "                        [pygame.transform.rotate(stack_image,car.angle),car.position] not in stack_list:\n",
    "                        stack_list+=[[pygame.transform.rotate(stack_image,car.angle),car.position]]\n",
    "                    for element in stack_list:\n",
    "                        self.screen.blit(element[0], element[1] * ppu - (element[0].get_rect().width / 2, element[0].get_rect().height / 2))\n",
    "                    \n",
    "                    for element in result:\n",
    "                        pygame.draw.aaline(self.screen, (0,0,255), [car.position[0],car.position[1]], [element[0],element[1]], 5)\n",
    "                        pygame.draw.circle(self.screen,(0,255,0),[int(element[0]),int(element[1])],5)\n",
    "                        \n",
    "                        \"\"\"writing point\"\"\"\n",
    "                        \n",
    "                        fontObj = pygame.font.Font('./font/times-new-roman.ttf', 30)\n",
    "                        textSurfaceObj = fontObj.render(\"Episode \"+str(episode), True, (255,255,255), (0,0,0))\n",
    "                        textRectObj = textSurfaceObj.get_rect()\n",
    "                        textRectObj.center = (100,30)\n",
    "                        self.screen.blit(textSurfaceObj, textRectObj) \n",
    "                        \n",
    "                    self.screen.blit(rotated, car.position * ppu - (rect.width / 2, rect.height / 2)) \n",
    "                    pygame.display.flip()\n",
    "                    #print(time.time()-timemarker,len(result))\n",
    "                    self.clock.tick(self.ticks)\n",
    "                    global_step+=1\n",
    "            pygame.quit()\n",
    "\n",
    "\n",
    "if __name__ == '__main__':\n",
    "    game = Game()\n",
    "    game.run()\n"
   ]
  },
  {
   "cell_type": "code",
   "execution_count": null,
   "metadata": {},
   "outputs": [],
   "source": []
  }
 ],
 "metadata": {
  "kernelspec": {
   "display_name": "Python [default]",
   "language": "python",
   "name": "python3"
  },
  "language_info": {
   "codemirror_mode": {
    "name": "ipython",
    "version": 3
   },
   "file_extension": ".py",
   "mimetype": "text/x-python",
   "name": "python",
   "nbconvert_exporter": "python",
   "pygments_lexer": "ipython3",
   "version": "3.6.4"
  }
 },
 "nbformat": 4,
 "nbformat_minor": 2
}
